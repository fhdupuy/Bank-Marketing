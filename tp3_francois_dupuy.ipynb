{
 "cells": [
  {
   "cell_type": "code",
   "execution_count": null,
   "metadata": {
    "collapsed": true
   },
   "outputs": [],
   "source": [
    "import numpy as np\n",
    "import pandas as pd\n",
    "import seaborn as sns\n",
    "import matplotlib.pyplot as plt\n",
    "import matplotlib.cm as cm"
   ]
  },
  {
   "cell_type": "markdown",
   "metadata": {},
   "source": [
    "## Load data"
   ]
  },
  {
   "cell_type": "code",
   "execution_count": null,
   "metadata": {
    "collapsed": false
   },
   "outputs": [],
   "source": [
    "df = pd.read_csv(\"bank-additional/bank-additional-full.csv\", sep=\";\")"
   ]
  },
  {
   "cell_type": "code",
   "execution_count": null,
   "metadata": {
    "collapsed": false
   },
   "outputs": [],
   "source": [
    "df.head()"
   ]
  },
  {
   "cell_type": "markdown",
   "metadata": {},
   "source": [
    "## Transform data"
   ]
  },
  {
   "cell_type": "code",
   "execution_count": null,
   "metadata": {
    "collapsed": false
   },
   "outputs": [],
   "source": [
    "# Drop column \"duration\"\n",
    "\n",
    "columns_to_drop = [\"duration\"]\n",
    "df.drop(columns_to_drop, axis = 1, inplace = True)\n",
    "\n",
    "# Handle N/A values\n",
    "\n",
    "for column in [\"job\", \"marital\", \"education\", \"housing\", \"loan\", \"default\"]:\n",
    "    ind = np.array(df[column] == \"unknown\")\n",
    "    df.loc[ind, column] = np.NaN   \n",
    "    \n",
    "df = df.apply(lambda x: x.fillna(x.value_counts().index[0]))\n",
    "#df.dropna(inplace = True)\n",
    "\n",
    "# Add dummies for categorical fields\n",
    "\n",
    "for column in [\"default\", \"housing\", \"loan\", \"y\"]:\n",
    "    df[column] = 1 * (df[column] == \"yes\")\n",
    "\n",
    "df = pd.get_dummies(df)"
   ]
  },
  {
   "cell_type": "code",
   "execution_count": null,
   "metadata": {
    "collapsed": false,
    "scrolled": true
   },
   "outputs": [],
   "source": [
    "# Center and normalize\n",
    "\n",
    "#for column in [\"age\", \"pdays\", \"previous\", \"emp.var.rate\", \"cons.price.idx\",\"cons.conf.idx\", \"euribor3m\", \"nr.employed\", \"duration\"]:\n",
    "#    c = df[column]\n",
    "#    df[column] =  (c - np.mean(c)) / np.sqrt((np.var(c)))"
   ]
  },
  {
   "cell_type": "code",
   "execution_count": null,
   "metadata": {
    "collapsed": false
   },
   "outputs": [],
   "source": [
    "df.head()"
   ]
  },
  {
   "cell_type": "code",
   "execution_count": null,
   "metadata": {
    "collapsed": false
   },
   "outputs": [],
   "source": [
    "df.columns"
   ]
  },
  {
   "cell_type": "markdown",
   "metadata": {},
   "source": [
    "## Data exploration"
   ]
  },
  {
   "cell_type": "code",
   "execution_count": null,
   "metadata": {
    "collapsed": false
   },
   "outputs": [],
   "source": [
    "n = len(df[\"y\"])\n",
    "n_s = np.sum(df[\"y\"])\n",
    "n_ns = np.sum(1 - df[\"y\"])\n",
    "print(\"Total number of clients: {}\".format(n))\n",
    "print(\"Subscription: {}\".format(n_s))\n",
    "print(\"No subscription: {}\".format(n_ns))"
   ]
  },
  {
   "cell_type": "code",
   "execution_count": null,
   "metadata": {
    "collapsed": false
   },
   "outputs": [],
   "source": [
    "column = \"age\"\n",
    "colors = [\"red\", \"blue\"]\n",
    "\n",
    "for y in [0, 1]:\n",
    "    ind = np.array(df[\"y\"] == y)\n",
    "    sns.distplot(df.loc[ind,column], color = colors[y], kde = True, hist=True)\n",
    "\n",
    "plt.title('Distribution of \"{0}\" (red: not subscribed | blue: subscribed)'.format(column))\n",
    "plt.show()"
   ]
  },
  {
   "cell_type": "markdown",
   "metadata": {},
   "source": [
    "## Dimension reduction"
   ]
  },
  {
   "cell_type": "code",
   "execution_count": null,
   "metadata": {
    "collapsed": false
   },
   "outputs": [],
   "source": [
    "X = np.array([df[c] for c in df.columns if (c != \"y\")]).T"
   ]
  },
  {
   "cell_type": "code",
   "execution_count": null,
   "metadata": {
    "collapsed": false
   },
   "outputs": [],
   "source": [
    "y = np.array(df[\"y\"])"
   ]
  },
  {
   "cell_type": "code",
   "execution_count": null,
   "metadata": {
    "collapsed": false
   },
   "outputs": [],
   "source": [
    "from sklearn.decomposition import PCA, KernelPCA\n",
    "\n",
    "n_components = 5\n",
    "#pca = KernelPCA(n_components = n_components, kernel=\"poly\", gamma=0.1, degree = 2) \n",
    "pca = PCA(n_components = n_components)"
   ]
  },
  {
   "cell_type": "code",
   "execution_count": null,
   "metadata": {
    "collapsed": false
   },
   "outputs": [],
   "source": [
    "explained_v = pca.fit(X).explained_variance_ \n",
    "plt.plot(np.arange(1,n_components+1), explained_v)\n",
    "plt.title(\"Explained variance\")\n",
    "plt.show()"
   ]
  },
  {
   "cell_type": "code",
   "execution_count": null,
   "metadata": {
    "collapsed": false
   },
   "outputs": [],
   "source": [
    "X = pca.fit_transform(X)"
   ]
  },
  {
   "cell_type": "code",
   "execution_count": null,
   "metadata": {
    "collapsed": false
   },
   "outputs": [],
   "source": [
    "colors = [\"green\", \"red\"]\n",
    "\n",
    "for rating in [0, 1]:\n",
    "    ind = np.array(y == rating)\n",
    "    plt.scatter(X[ind,0], X[ind,1], color = colors[rating])\n",
    "\n",
    "plt.show()"
   ]
  },
  {
   "cell_type": "markdown",
   "metadata": {},
   "source": [
    "## Test models"
   ]
  },
  {
   "cell_type": "code",
   "execution_count": null,
   "metadata": {
    "collapsed": true
   },
   "outputs": [],
   "source": [
    "from sklearn.model_selection import KFold\n",
    "from sklearn.metrics import accuracy_score\n",
    "\n",
    "def scores_clf(X, y, clf, n_splits = 5):\n",
    "    \n",
    "    # init\n",
    "    \n",
    "    kf = KFold(n_splits = n_splits, shuffle = True, random_state = 42)\n",
    "    kf.get_n_splits(X)\n",
    "    \n",
    "    # K-Fold cross-validation\n",
    "    \n",
    "    a = []\n",
    "    i = 0\n",
    "    \n",
    "    for train_index, test_index in kf.split(X):\n",
    "        \n",
    "        i += 1\n",
    "        \n",
    "        # Split dataset\n",
    "        X_train, X_test = X[train_index], X[test_index]\n",
    "        y_train, y_test = y[train_index], y[test_index]\n",
    "        \n",
    "        # Train\n",
    "        clf.fit(X_train, y_train)\n",
    "    \n",
    "        # Predict\n",
    "        y_pred_train = clf.predict(X_train)\n",
    "        y_pred_test = clf.predict(X_test)\n",
    "\n",
    "        # Compute score\n",
    "        a_train = accuracy_score(y_train, y_pred_train)\n",
    "        a_test = accuracy_score(y_test, y_pred_test)\n",
    "        \n",
    "        print(\"=> Fold {0}\\nTraining accuracy: {1}\\nTest accuracy: {2}\".format(i, a_train, a_test))\n",
    "        \n",
    "        a.append(a_test)\n",
    "\n",
    "    a_global = np.mean(a)\n",
    "    \n",
    "    print(\"*\"*50 + \"\\nGlobal accuracy: {0}\\n\".format(a_global) + \"*\"*50)\n",
    "    \n",
    "    return a_global"
   ]
  },
  {
   "cell_type": "markdown",
   "metadata": {},
   "source": [
    "#### Logistic regression"
   ]
  },
  {
   "cell_type": "code",
   "execution_count": null,
   "metadata": {
    "collapsed": false
   },
   "outputs": [],
   "source": [
    "from sklearn.linear_model import LogisticRegression\n",
    "\n",
    "clf = LogisticRegression(C = 1.)\n",
    "\n",
    "scores_clf(X, y, clf)"
   ]
  },
  {
   "cell_type": "code",
   "execution_count": null,
   "metadata": {
    "collapsed": false
   },
   "outputs": [],
   "source": [
    "from sklearn.model_selection import GridSearchCV\n",
    "\n",
    "parameters = {\n",
    "    \"penalty\" : [\"l1\", \"l2\"],\n",
    "    \"C\" : [0.1, 0.25, 0.5, 0.75, 1., 1.5, 2., 10.],\n",
    "    \"fit_intercept\" : [True, False]\n",
    "}\n",
    "\n",
    "grid_cv = GridSearchCV(estimator = clf, param_grid = parameters)\n",
    "\n",
    "grid_cv.fit(X,y).best_estimator_"
   ]
  },
  {
   "cell_type": "markdown",
   "metadata": {},
   "source": [
    "#### SVM"
   ]
  },
  {
   "cell_type": "code",
   "execution_count": null,
   "metadata": {
    "collapsed": true
   },
   "outputs": [],
   "source": [
    "from sklearn.svm import SVC\n",
    "\n",
    "clf = SVC()\n",
    "\n",
    "scores_clf(X, y, clf)"
   ]
  },
  {
   "cell_type": "markdown",
   "metadata": {},
   "source": [
    "#### K-Neighbors "
   ]
  },
  {
   "cell_type": "code",
   "execution_count": null,
   "metadata": {
    "collapsed": false
   },
   "outputs": [],
   "source": [
    "from sklearn.neighbors import KNeighborsClassifier\n",
    "\n",
    "clf = KNeighborsClassifier(n_neighbors = 25)\n",
    "\n",
    "a = scores_clf(X, y, clf)"
   ]
  },
  {
   "cell_type": "code",
   "execution_count": null,
   "metadata": {
    "collapsed": false
   },
   "outputs": [],
   "source": [
    "from sklearn.model_selection import GridSearchCV\n",
    "\n",
    "parameters = {\n",
    "    \"n_neighbors\" : 5 * np.arange(1,6),\n",
    "    \"weights\" : [\"uniform\", \"distance\"]\n",
    "}\n",
    "\n",
    "grid_cv = GridSearchCV(estimator = clf, param_grid = parameters)\n",
    "\n",
    "grid_cv.fit(X,y).best_estimator_"
   ]
  },
  {
   "cell_type": "markdown",
   "metadata": {},
   "source": [
    "#### Decision Tree"
   ]
  },
  {
   "cell_type": "code",
   "execution_count": null,
   "metadata": {
    "collapsed": false
   },
   "outputs": [],
   "source": [
    "from sklearn.tree import DecisionTreeClassifier\n",
    "\n",
    "clf = DecisionTreeClassifier()\n",
    "\n",
    "scores_clf(X, y, clf)"
   ]
  },
  {
   "cell_type": "markdown",
   "metadata": {},
   "source": [
    "#### Random forest"
   ]
  },
  {
   "cell_type": "code",
   "execution_count": null,
   "metadata": {
    "collapsed": false,
    "scrolled": true
   },
   "outputs": [],
   "source": [
    "from sklearn.ensemble import RandomForestClassifier\n",
    "\n",
    "clf = RandomForestClassifier(n_estimators = 25, criterion = \"gini\")\n",
    "\n",
    "scores_clf(X, y, clf, n_splits=5)"
   ]
  },
  {
   "cell_type": "code",
   "execution_count": null,
   "metadata": {
    "collapsed": false
   },
   "outputs": [],
   "source": [
    "from sklearn.model_selection import GridSearchCV\n",
    "\n",
    "parameters = {\n",
    "    \"n_estimators\" : [25, 50, 100], \n",
    "    \"criterion\" : [\"gini\",\"entropy\"]\n",
    "}\n",
    "\n",
    "grid_cv = GridSearchCV(estimator = clf, param_grid = parameters)\n",
    "\n",
    "grid_cv.fit(X,y).best_estimator_"
   ]
  },
  {
   "cell_type": "markdown",
   "metadata": {},
   "source": [
    "#### Neural Network"
   ]
  },
  {
   "cell_type": "code",
   "execution_count": null,
   "metadata": {
    "collapsed": true
   },
   "outputs": [],
   "source": [
    "from sklearn.neural_network import MLPClassifier\n",
    "\n",
    "clf = MLPClassifier(hidden_layer_sizes=(100,100), activation = \"tanh\")"
   ]
  },
  {
   "cell_type": "code",
   "execution_count": null,
   "metadata": {
    "collapsed": false
   },
   "outputs": [],
   "source": [
    "a = scores_clf(X, y, clf, n_splits=5)"
   ]
  },
  {
   "cell_type": "markdown",
   "metadata": {},
   "source": [
    "## Best estimator"
   ]
  },
  {
   "cell_type": "code",
   "execution_count": null,
   "metadata": {
    "collapsed": true
   },
   "outputs": [],
   "source": [
    "from sklearn.ensemble import RandomForestClassifier\n",
    "\n",
    "clf = RandomForestClassifier(n_estimators = 100, criterion = \"entropy\")"
   ]
  },
  {
   "cell_type": "code",
   "execution_count": null,
   "metadata": {
    "collapsed": true
   },
   "outputs": [],
   "source": [
    "from sklearn.model_selection import train_test_split\n",
    "\n",
    "X_train, X_test, y_train, y_test = train_test_split(X, y, test_size = 0.2)"
   ]
  },
  {
   "cell_type": "code",
   "execution_count": null,
   "metadata": {
    "collapsed": false
   },
   "outputs": [],
   "source": [
    "clf.fit(X_train, y_train)"
   ]
  },
  {
   "cell_type": "code",
   "execution_count": null,
   "metadata": {
    "collapsed": false
   },
   "outputs": [],
   "source": [
    "y_pred = clf.predict(X_test)"
   ]
  },
  {
   "cell_type": "code",
   "execution_count": null,
   "metadata": {
    "collapsed": false
   },
   "outputs": [],
   "source": [
    "from sklearn.metrics import accuracy_score\n",
    "\n",
    "accuracy_score(y_test, y_pred)"
   ]
  },
  {
   "cell_type": "code",
   "execution_count": null,
   "metadata": {
    "collapsed": true
   },
   "outputs": [],
   "source": []
  }
 ],
 "metadata": {
  "kernelspec": {
   "display_name": "Python 3",
   "language": "python",
   "name": "python3"
  },
  "language_info": {
   "codemirror_mode": {
    "name": "ipython",
    "version": 3
   },
   "file_extension": ".py",
   "mimetype": "text/x-python",
   "name": "python",
   "nbconvert_exporter": "python",
   "pygments_lexer": "ipython3",
   "version": "3.5.2"
  }
 },
 "nbformat": 4,
 "nbformat_minor": 1
}
